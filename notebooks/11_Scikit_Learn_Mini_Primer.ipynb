{
 "cells": [
  {
   "cell_type": "markdown",
   "id": "b804a9a0",
   "metadata": {},
   "source": [
    "<img src=\"https://theaiengineer.dev/tae_logo_gw_flatter.png\" width=35% align=right>"
   ]
  },
  {
   "cell_type": "markdown",
   "id": "796ce03b",
   "metadata": {},
   "source": [
    "# Python Primer for Machine & Deep Learning\n",
    "## Scikit-learn Mini Primer\n",
    "\n",
    "**&copy; Dr. Yves J. Hilpisch**\n",
    "\n",
    "AI-Powered by GPT-5\n",
    "\n",
    "This notebook shows a reliable workflow: split data, fit a pipeline, evaluate with a confusion matrix and ROC, then a regression baseline and cross‑validation."
   ]
  },
  {
   "cell_type": "code",
   "execution_count": null,
   "id": "c89c6777",
   "metadata": {},
   "outputs": [],
   "source": [
    "# If running in a fresh Colab, uncomment to install\n",
    "# !python -m pip install -q scikit-learn matplotlib"
   ]
  },
  {
   "cell_type": "markdown",
   "id": "f1bc127a",
   "metadata": {},
   "source": [
    "### Train/test split and pipeline (classification)"
   ]
  },
  {
   "cell_type": "code",
   "execution_count": null,
   "id": "4eb2bcb1",
   "metadata": {},
   "outputs": [],
   "source": [
    "from sklearn.model_selection import train_test_split\n",
    "from sklearn.preprocessing import StandardScaler\n",
    "from sklearn.pipeline import make_pipeline\n",
    "from sklearn.datasets import make_classification\n",
    "from sklearn.linear_model import LogisticRegression\n",
    "from sklearn.metrics import accuracy_score, confusion_matrix, roc_curve, auc\n",
    "import numpy as np, matplotlib.pyplot as plt\n",
    "plt.style.use('seaborn-v0_8')\n",
    "X, y = make_classification(n_samples=600, n_features=6, n_informative=4, random_state=0)\n",
    "Xtr, Xte, ytr, yte = train_test_split(X, y, test_size=0.2, random_state=42, stratify=y)\n",
    "clf = make_pipeline(StandardScaler(), LogisticRegression(max_iter=1000))\n",
    "clf.fit(Xtr, ytr)\n",
    "y_pred = clf.predict(Xte)\n",
    "acc = accuracy_score(yte, y_pred); acc"
   ]
  },
  {
   "cell_type": "markdown",
   "id": "b70327a3",
   "metadata": {},
   "source": [
    "### Confusion matrix and ROC"
   ]
  },
  {
   "cell_type": "code",
   "execution_count": null,
   "id": "25c7e5e0",
   "metadata": {},
   "outputs": [],
   "source": [
    "cm = confusion_matrix(yte, y_pred)\n",
    "fig, ax = plt.subplots(figsize=(5.2,4))\n",
    "im = ax.imshow(cm, cmap='Blues')\n",
    "for (i,j), v in np.ndenumerate(cm):\n",
    "    ax.text(j, i, str(v), ha='center', va='center')\n",
    "ax.set_xlabel('predicted'); ax.set_ylabel('true'); ax.set_title('Confusion matrix')\n",
    "plt.show()\n",
    "y_score = clf.predict_proba(Xte)[:,1]\n",
    "fpr, tpr, _ = roc_curve(yte, y_score); roc_auc = auc(fpr, tpr)\n",
    "fig, ax = plt.subplots(figsize=(5.2,4))\n",
    "ax.plot(fpr, tpr, label=f'ROC AUC = {roc_auc:.3f}')\n",
    "ax.plot([0,1],[0,1],'--',c='0.6'); ax.set(xlabel='FPR', ylabel='TPR', title='ROC curve')\n",
    "ax.legend(); ax.grid(alpha=0.3); plt.show()"
   ]
  },
  {
   "cell_type": "markdown",
   "id": "29f665b1",
   "metadata": {},
   "source": [
    "### Regression baseline"
   ]
  },
  {
   "cell_type": "code",
   "execution_count": null,
   "id": "438bb6ce",
   "metadata": {},
   "outputs": [],
   "source": [
    "from sklearn.datasets import make_regression\n",
    "from sklearn.linear_model import LinearRegression\n",
    "from sklearn.metrics import r2_score, mean_absolute_error\n",
    "Xr, yr = make_regression(n_samples=500, n_features=4, noise=10.0, random_state=1)\n",
    "Xtr, Xte, ytr, yte = train_test_split(Xr, yr, test_size=0.2, random_state=42)\n",
    "reg = make_pipeline(StandardScaler(), LinearRegression())\n",
    "reg.fit(Xtr, ytr)\n",
    "yhat = reg.predict(Xte)\n",
    "r2, mae = r2_score(yte, yhat), mean_absolute_error(yte, yhat)\n",
    "r2, mae"
   ]
  },
  {
   "cell_type": "markdown",
   "id": "3742a9d8",
   "metadata": {},
   "source": [
    "### Cross‑validation and grid search"
   ]
  },
  {
   "cell_type": "code",
   "execution_count": null,
   "id": "845ee9c1",
   "metadata": {},
   "outputs": [],
   "source": [
    "from sklearn.model_selection import cross_val_score, GridSearchCV\n",
    "scores = cross_val_score(clf, X, y, cv=5, scoring='accuracy'); scores.mean(), scores.std()\n",
    "grid = GridSearchCV(make_pipeline(StandardScaler(), LogisticRegression(max_iter=2000)),\n",
    "                     param_grid={'logisticregression__C':[0.1,1.0,10.0]}, cv=5, scoring='accuracy')\n",
    "grid.fit(X, y); grid.best_params_, grid.best_score_"
   ]
  },
  {
   "cell_type": "markdown",
   "id": "2a59b36b",
   "metadata": {},
   "source": [
    "## Exercises\n",
    "1. Replace LogisticRegression with a tree‑based model (e.g., RandomForest) and compare ROC/AUC.\n",
    "2. Add a StandardScaler outside the pipeline and show why it leads to leakage on the test set.\n",
    "3. For regression, plot predicted vs. true and add a y=x dashed line."
   ]
  },
  {
   "cell_type": "markdown",
   "id": "e9d7f737",
   "metadata": {},
   "source": [
    "<img src=\"https://theaiengineer.dev/tae_logo_gw_flatter.png\" width=35% align=right>"
   ]
  }
 ],
 "metadata": {
  "kernelspec": {
   "display_name": "Python 3",
   "language": "python",
   "name": "python3"
  },
  "language_info": {
   "name": "python"
  }
 },
 "nbformat": 4,
 "nbformat_minor": 5
}

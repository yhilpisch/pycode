{
 "cells": [
  {
   "cell_type": "markdown",
   "id": "c38e1de0",
   "metadata": {},
   "source": [
    "<img src=\"https://theaiengineer.dev/tae_logo_gw_flatter.png\" width=35% align=right>"
   ]
  },
  {
   "cell_type": "markdown",
   "id": "65903d16",
   "metadata": {},
   "source": [
    "# Python Primer for Machine & Deep Learning\n",
    "## Introduction\n",
    "\n",
    "**&copy; Dr. Yves J. Hilpisch**\n",
    "\n",
    "AI-Powered by GPT-5\n",
    "\n",
    "[Open in Colab](https://colab.research.google.com/github/yhilpisch/pycode/blob/main/notebooks/01_Introduction.ipynb)\n",
    "\n",
    "Welcome! This notebook sets the tone for the primer: small, copy‑paste‑able examples that build reliable habits. In Colab, you don’t need a `venv`, but you can still use `python -m pip` and mount Google Drive for persistence."
   ]
  },
  {
   "cell_type": "markdown",
   "id": "fb67e6eb",
   "metadata": {},
   "source": [
    "### Check your Python and pip"
   ]
  },
  {
   "cell_type": "code",
   "execution_count": null,
   "id": "b209e936",
   "metadata": {},
   "outputs": [],
   "source": [
    "!python --version\n",
    "!python -m pip --version"
   ]
  },
  {
   "cell_type": "markdown",
   "id": "0007ac9f",
   "metadata": {},
   "source": [
    "### Install and show a package (pattern)"
   ]
  },
  {
   "cell_type": "code",
   "execution_count": null,
   "id": "cbf644ca",
   "metadata": {},
   "outputs": [],
   "source": [
    "import sys, subprocess\n",
    "subprocess.run([sys.executable, '-m', 'pip', 'install', '-q', 'requests'], check=True)\n",
    "import requests\n",
    "print('requests', requests.__version__)"
   ]
  },
  {
   "cell_type": "markdown",
   "id": "f98da786",
   "metadata": {},
   "source": [
    "### Hello, arrays"
   ]
  },
  {
   "cell_type": "code",
   "execution_count": null,
   "id": "4d67d12e",
   "metadata": {},
   "outputs": [],
   "source": [
    "import numpy as np\n",
    "np.mean([1,2,3,4])"
   ]
  },
  {
   "cell_type": "markdown",
   "id": "d29abd00",
   "metadata": {},
   "source": [
    "### Hello, plot"
   ]
  },
  {
   "cell_type": "code",
   "execution_count": null,
   "id": "bedd4b95",
   "metadata": {},
   "outputs": [],
   "source": [
    "import numpy as np, matplotlib.pyplot as plt\n",
    "x = np.linspace(0, 2*np.pi, 200)\n",
    "plt.plot(x, np.sin(x))\n",
    "plt.title('Hello, Colab'); plt.grid(True); plt.show()"
   ]
  },
  {
   "cell_type": "markdown",
   "id": "fb0d54cd",
   "metadata": {},
   "source": [
    "### Optional: mount Google Drive for persistent files"
   ]
  },
  {
   "cell_type": "code",
   "execution_count": null,
   "id": "89011cf9",
   "metadata": {},
   "outputs": [],
   "source": [
    "# from google.colab import drive\n",
    "# drive.mount('/content/drive')"
   ]
  },
  {
   "cell_type": "markdown",
   "id": "6ce91542",
   "metadata": {},
   "source": [
    "## Exercises\n",
    "1. Use `python -m pip` to install `httpx` and print its version.\n",
    "2. Save the sine plot as `figures/hello_line.png` under `/content` (create the folder first).\n",
    "3. Create a list of squares for `range(10)` using a list comprehension."
   ]
  },
  {
   "cell_type": "markdown",
   "id": "8c5fdf3d",
   "metadata": {},
   "source": [
    "<img src=\"https://theaiengineer.dev/tae_logo_gw_flatter.png\" width=35% align=right>"
   ]
  }
 ],
 "metadata": {
  "kernelspec": {
   "display_name": "Python 3",
   "language": "python",
   "name": "python3"
  },
  "language_info": {
   "name": "python"
  }
 },
 "nbformat": 4,
 "nbformat_minor": 5
}

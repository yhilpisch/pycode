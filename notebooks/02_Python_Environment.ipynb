{
 "cells": [
  {
   "cell_type": "markdown",
   "id": "c3ebf429",
   "metadata": {},
   "source": [
    "<img src=\"https://theaiengineer.dev/tae_logo_gw_flatter.png\" width=35% align=right>"
   ]
  },
  {
   "cell_type": "markdown",
   "id": "1b3a3ff2",
   "metadata": {},
   "source": [
    "# Python Primer for Machine & Deep Learning\n",
    "## Python Environment\n",
    "\n",
    "**&copy; Dr. Yves J. Hilpisch**\n",
    "\n",
    "AI-Powered by GPT-5\n",
    "\n",
    "This notebook demonstrates a clean, repeatable setup with Python, pip, and virtual environments. In Colab a venv is not needed, but the pip patterns still apply."
   ]
  },
  {
   "cell_type": "markdown",
   "id": "0c060786",
   "metadata": {},
   "source": [
    "### Versions"
   ]
  },
  {
   "cell_type": "code",
   "execution_count": null,
   "id": "ecafec2a",
   "metadata": {},
   "outputs": [],
   "source": [
    "!python --version\n",
    "!python -m pip --version"
   ]
  },
  {
   "cell_type": "markdown",
   "id": "c21be533",
   "metadata": {},
   "source": [
    "### Use `python -m pip` (targets the current interpreter)"
   ]
  },
  {
   "cell_type": "code",
   "execution_count": null,
   "id": "d0a9adbb",
   "metadata": {},
   "outputs": [],
   "source": [
    "import sys, subprocess\n",
    "subprocess.run([sys.executable, '-m', 'pip', 'install', '-q', 'requests'], check=True)\n",
    "import requests\n",
    "print('requests', requests.__version__)"
   ]
  },
  {
   "cell_type": "markdown",
   "id": "613d51f7",
   "metadata": {},
   "source": [
    "### Freeze and recreate (Colab demo paths)"
   ]
  },
  {
   "cell_type": "code",
   "execution_count": null,
   "id": "1c010273",
   "metadata": {},
   "outputs": [],
   "source": [
    "!python -m pip freeze | head -n 10"
   ]
  },
  {
   "cell_type": "markdown",
   "id": "8d62950b",
   "metadata": {},
   "source": [
    "### Optional: Mount Google Drive for persistent files"
   ]
  },
  {
   "cell_type": "code",
   "execution_count": null,
   "id": "57c63820",
   "metadata": {},
   "outputs": [],
   "source": [
    "# Optional: only available in Google Colab\n",
    "try:\n",
    "    from google.colab import drive\n",
    "    drive.mount('/content/drive')\n",
    "except Exception as e:\n",
    "    print('Colab drive not available:', e)"
   ]
  },
  {
   "cell_type": "markdown",
   "id": "512900df",
   "metadata": {},
   "source": [
    "### Project layout (why `src/` helps)\n",
    "Keep code under `src/` to avoid accidental imports from the repo root. In Colab, copy modules into the working directory for quick experiments."
   ]
  },
  {
   "cell_type": "markdown",
   "id": "2e263cbf",
   "metadata": {},
   "source": [
    "## Exercises\n",
    "1. Install `httpx` with `python -m pip` and print its version.\n",
    "2. Save the output of `python -m pip freeze` to `/content/requirements.txt`.\n",
    "3. Create a tiny module file `arith.py` with `add(a,b)`, import it in a new cell, and test it."
   ]
  },
  {
   "cell_type": "markdown",
   "id": "dea473d0",
   "metadata": {},
   "source": [
    "<img src=\"https://theaiengineer.dev/tae_logo_gw_flatter.png\" width=35% align=right>"
   ]
  }
 ],
 "metadata": {
  "kernelspec": {
   "display_name": "Python 3",
   "language": "python",
   "name": "python3"
  },
  "language_info": {
   "name": "python"
  }
 },
 "nbformat": 4,
 "nbformat_minor": 5
}

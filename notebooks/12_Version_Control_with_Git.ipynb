{
 "cells": [
  {
   "cell_type": "markdown",
   "id": "e01615a9",
   "metadata": {},
   "source": [
    "<img src=\"https://theaiengineer.dev/tae_logo_gw_flatter.png\" width=35% align=right>"
   ]
  },
  {
   "cell_type": "markdown",
   "id": "36153baa",
   "metadata": {},
   "source": [
    "# Python Primer for Machine & Deep Learning\n",
    "## Version Control with Git\n",
    "\n",
    "**&copy; Dr. Yves J. Hilpisch**\n",
    "\n",
    "AI-Powered by GPT-5\n",
    "\n",
    "This notebook demonstrates everyday Git commands in a temporary local folder (works on Colab and locally)."
   ]
  },
  {
   "cell_type": "markdown",
   "id": "854b28a7",
   "metadata": {},
   "source": [
    "### Init, first commit, and log"
   ]
  },
  {
   "cell_type": "code",
   "execution_count": null,
   "id": "79ff03dd",
   "metadata": {},
   "outputs": [],
   "source": [
    "import tempfile, subprocess, os, pathlib as pl\n",
    "work = tempfile.mkdtemp(prefix='demo-repo-')\n",
    "print('Working dir:', work)\n",
    "subprocess.run(['git','init','-q'], cwd=work, check=True)\n",
    "# Configure identity for this temp repo (non-interactive)\n",
    "subprocess.run(['git','config','user.email','you@example.com'], cwd=work, check=True)\n",
    "subprocess.run(['git','config','user.name','You'], cwd=work, check=True)\n",
    "pl.Path(work,'README.md').write_text('# Demo Repo\\n')\n",
    "subprocess.run(['git','add','README.md'], cwd=work, check=True)\n",
    "subprocess.run(['git','commit','-q','-m','Add README'], cwd=work, check=True)\n",
    "print(subprocess.run(['git','log','--oneline','--decorate','--graph','--all'], cwd=work, text=True, capture_output=True).stdout)\n"
   ]
  },
  {
   "cell_type": "markdown",
   "id": "9d1a9f39",
   "metadata": {},
   "source": [
    "### Branch, commit, and merge (fast‑forward)"
   ]
  },
  {
   "cell_type": "code",
   "execution_count": null,
   "id": "5c18cda4",
   "metadata": {},
   "outputs": [],
   "source": [
    "subprocess.run(['git','switch','-c','feature/hello','-q'], cwd=work, check=True)\n",
    "# write a simple script\n",
    "pl.Path(work,'hello.py').write_text('print(\\'Hello, world!\\')\\n')\n",
    "subprocess.run(['git','add','hello.py'], cwd=work, check=True)\n",
    "subprocess.run(['git','commit','-q','-m','Add hello script'], cwd=work, check=True)\n",
    "subprocess.run(['git','switch','-q','-c','main'], cwd=work, check=False)\n",
    "subprocess.run(['git','switch','-q','main'], cwd=work, check=False)\n",
    "subprocess.run(['git','merge','-q','feature/hello','--ff-only'], cwd=work, check=True)\n",
    "print(subprocess.run(['git','log','--oneline','--decorate','--graph','--all'], cwd=work, text=True, capture_output=True).stdout)\n"
   ]
  },
  {
   "cell_type": "markdown",
   "id": "bacb420e",
   "metadata": {},
   "source": [
    "### Revert a bad commit (safe undo)"
   ]
  },
  {
   "cell_type": "code",
   "execution_count": null,
   "id": "ef95b825",
   "metadata": {},
   "outputs": [],
   "source": [
    "with open(pl.Path(work,'hello.py'),'a') as f: f.write('print(1/0)\\n')\n",
    "subprocess.run(['git','add','hello.py'], cwd=work, check=True)\n",
    "subprocess.run(['git','commit','-q','-m','Break it'], cwd=work, check=True)\n",
    "bad = subprocess.run(['git','rev-parse','--short','HEAD'], cwd=work, text=True, capture_output=True, check=True).stdout.strip()\n",
    "# --no-edit avoids launching an editor in headless environments\n",
    "subprocess.run(['git','revert','--no-edit','-q', bad], cwd=work, check=True)\n",
    "print(subprocess.run(['git','log','--oneline','--decorate','--graph','-n','4'], cwd=work, text=True, capture_output=True).stdout)\n"
   ]
  },
  {
   "cell_type": "markdown",
   "id": "473756d7",
   "metadata": {},
   "source": [
    "## Exercises\n",
    "1. Create a new branch `feature/readme`, append one line to `README.md`, and view `git log`.\n",
    "2. Practice resolving a conflict by editing the same line in two branches and merging (use this temp repo).\n",
    "3. Tag the current commit with `v0.1.0` and list tags."
   ]
  },
  {
   "cell_type": "markdown",
   "id": "37b2ab18",
   "metadata": {},
   "source": [
    "<img src=\"https://theaiengineer.dev/tae_logo_gw_flatter.png\" width=35% align=right>"
   ]
  }
 ],
 "metadata": {
  "kernelspec": {
   "display_name": "Python 3",
   "language": "python",
   "name": "python3"
  },
  "language_info": {
   "name": "python"
  }
 },
 "nbformat": 4,
 "nbformat_minor": 5
}

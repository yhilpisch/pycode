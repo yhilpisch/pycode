{
 "cells": [
  {
   "cell_type": "markdown",
   "id": "bba37cd5",
   "metadata": {},
   "source": [
    "<img src=\"https://theaiengineer.dev/tae_logo_gw_flatter.png\" width=35% align=right>"
   ]
  },
  {
   "cell_type": "markdown",
   "id": "45f2f4ba",
   "metadata": {},
   "source": [
    "# Python Primer for Machine & Deep Learning\n",
    "## Software Craftsmanship\n",
    "\n",
    "**&copy; Dr. Yves J. Hilpisch**\n",
    "\n",
    "AI-Powered by GPT-5\n",
    "\n",
    "This notebook demonstrates formatting/linting/testing patterns in a Colab‑friendly way. Installing heavy tools is optional to keep runtime fast."
   ]
  },
  {
   "cell_type": "markdown",
   "id": "e9c62ba1",
   "metadata": {},
   "source": [
    "### Tiny module and a test"
   ]
  },
  {
   "cell_type": "code",
   "execution_count": null,
   "id": "0688939e",
   "metadata": {},
   "outputs": [],
   "source": [
    "%%bash\n",
    "cat > arith.py <<'PY'\n",
    "def add(a: int, b: int) -> int:\n",
    "    return a + b\n",
    "PY\n",
    "python - <<'PY'\n",
    "from arith import add\n",
    "assert add(2,3) == 5\n",
    "print('add works ✓')\n",
    "PY"
   ]
  },
  {
   "cell_type": "markdown",
   "id": "306e0e35",
   "metadata": {},
   "source": [
    "### Logging over print (structured, configurable)"
   ]
  },
  {
   "cell_type": "code",
   "execution_count": null,
   "id": "25da125e",
   "metadata": {},
   "outputs": [],
   "source": [
    "import logging\n",
    "logging.basicConfig(level=logging.INFO, format='%(levelname)s %(name)s - %(message)s')\n",
    "logger = logging.getLogger('demo')\n",
    "logger.info('hello from craftsmanship')"
   ]
  },
  {
   "cell_type": "markdown",
   "id": "2dd8f7f1",
   "metadata": {},
   "source": [
    "### Optional: formatting and linting (commented)\n",
    "Uncomment to install. In a real project, add configs to `pyproject.toml` and use pre‑commit hooks."
   ]
  },
  {
   "cell_type": "code",
   "execution_count": null,
   "id": "87e107de",
   "metadata": {},
   "outputs": [],
   "source": [
    "# !python -m pip install -q black ruff isort pytest mypy\n",
    "# !black arith.py\n",
    "# !ruff check . --fix\n",
    "# !pytest -q  # if tests present"
   ]
  },
  {
   "cell_type": "markdown",
   "id": "340033f9",
   "metadata": {},
   "source": [
    "## Exercises\n",
    "1. Add an `inc(a)` function to `arith.py` and write a quick assertion that it returns `a+1`.\n",
    "2. Configure basic logging with a different format string and log two messages.\n",
    "3. (Optional) Install `black` and format `arith.py`, then show the diff with `git diff` (if you init a repo)."
   ]
  },
  {
   "cell_type": "markdown",
   "id": "57af4b1e",
   "metadata": {},
   "source": [
    "<img src=\"https://theaiengineer.dev/tae_logo_gw_flatter.png\" width=35% align=right>"
   ]
  }
 ],
 "metadata": {
  "kernelspec": {
   "display_name": "Python 3",
   "language": "python",
   "name": "python3"
  },
  "language_info": {
   "name": "python"
  }
 },
 "nbformat": 4,
 "nbformat_minor": 5
}

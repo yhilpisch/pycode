{
 "cells": [
  {
   "cell_type": "markdown",
   "id": "792e482c",
   "metadata": {},
   "source": [
    "<img src=\"https://theaiengineer.dev/tae_logo_gw_flatter.png\" width=35% align=right>"
   ]
  },
  {
   "cell_type": "markdown",
   "id": "94036e85",
   "metadata": {},
   "source": [
    "# Python Primer for Machine & Deep Learning\n",
    "## Data Types and Structures\n",
    "\n",
    "**&copy; Dr. Yves J. Hilpisch**\n",
    "\n",
    "AI-Powered by GPT-5\n",
    "\n",
    "Python’s core containers—lists, tuples, sets, dicts—are the building blocks for everything that follows. This notebook mirrors the chapter with short, runnable examples."
   ]
  },
  {
   "cell_type": "markdown",
   "id": "5d9a2339",
   "metadata": {},
   "source": [
    "### Scalars and strings"
   ]
  },
  {
   "cell_type": "code",
   "execution_count": null,
   "id": "79b9db62",
   "metadata": {},
   "outputs": [],
   "source": [
    "price = 101.5\n",
    "name = '  aDA   '  # messy\n",
    "clean = f'Hello, {name.strip().title()}!'\n",
    "price, clean"
   ]
  },
  {
   "cell_type": "markdown",
   "id": "db210cc0",
   "metadata": {},
   "source": [
    "### Lists (mutable, ordered)"
   ]
  },
  {
   "cell_type": "code",
   "execution_count": null,
   "id": "ebfaab39",
   "metadata": {},
   "outputs": [],
   "source": [
    "pages = [10, 15, 12]\n",
    "pages.append(20); pages.insert(0, 5)\n",
    "avg = sum(pages) / len(pages)\n",
    "pages, avg"
   ]
  },
  {
   "cell_type": "markdown",
   "id": "fc699838",
   "metadata": {},
   "source": [
    "### Tuples (immutable) and unpacking"
   ]
  },
  {
   "cell_type": "code",
   "execution_count": null,
   "id": "da11a680",
   "metadata": {},
   "outputs": [],
   "source": [
    "trade = ('AAPL', 100, 190.5)\n",
    "sym, qty, px = trade\n",
    "value = qty * px\n",
    "sym, value"
   ]
  },
  {
   "cell_type": "markdown",
   "id": "f99f76dc",
   "metadata": {},
   "source": [
    "### Sets (unique membership, fast lookups)"
   ]
  },
  {
   "cell_type": "code",
   "execution_count": null,
   "id": "93878c7c",
   "metadata": {},
   "outputs": [],
   "source": [
    "day1 = {'Ada', 'Alan', 'Ada', 'Grace'}\n",
    "day2 = {'Grace', 'Linus', 'Ada'}\n",
    "uniq = day1 | day2; both = day1 & day2; only1 = day1 - day2\n",
    "sorted(uniq), sorted(both), sorted(only1)"
   ]
  },
  {
   "cell_type": "markdown",
   "id": "aae9d860",
   "metadata": {},
   "source": [
    "### Dicts (key→value maps)"
   ]
  },
  {
   "cell_type": "code",
   "execution_count": null,
   "id": "a464de7c",
   "metadata": {},
   "outputs": [],
   "source": [
    "sizes = {'S':1, 'M':2, 'L':3}\n",
    "sizes['M'], list(sizes.items())"
   ]
  },
  {
   "cell_type": "markdown",
   "id": "6b8ace46",
   "metadata": {},
   "source": [
    "### Indexing, slicing, comprehensions"
   ]
  },
  {
   "cell_type": "code",
   "execution_count": null,
   "id": "1fb5d181",
   "metadata": {},
   "outputs": [],
   "source": [
    "xs = list(range(10))\n",
    "xs[2:7:2], xs[::-1]"
   ]
  },
  {
   "cell_type": "code",
   "execution_count": null,
   "id": "affe91ea",
   "metadata": {},
   "outputs": [],
   "source": [
    "squares = [x*x for x in xs if x % 2 == 0]\n",
    "{w: len(w) for w in ['cat','giraffe','ant','elephant'] if len(w) >= 4}\n"
   ]
  },
  {
   "cell_type": "markdown",
   "id": "b49d56c6",
   "metadata": {},
   "source": [
    "## Exercises\n",
    "1. Given a string with extra spaces and mixed case, format it as `Hello, Name!`.\n",
    "2. Start with `pages = [10, 15, 12]`; append 20, insert 5 at the front, remove the last element, and compute the average.\n",
    "3. Build a set of unique attendees from two lists that may contain duplicates, then compute the overlap."
   ]
  },
  {
   "cell_type": "markdown",
   "id": "070e743a",
   "metadata": {},
   "source": [
    "<img src=\"https://theaiengineer.dev/tae_logo_gw_flatter.png\" width=35% align=right>"
   ]
  }
 ],
 "metadata": {
  "kernelspec": {
   "display_name": "Python 3",
   "language": "python",
   "name": "python3"
  },
  "language_info": {
   "name": "python"
  }
 },
 "nbformat": 4,
 "nbformat_minor": 5
}

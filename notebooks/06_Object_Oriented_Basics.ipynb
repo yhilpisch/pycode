{
 "cells": [
  {
   "cell_type": "markdown",
   "id": "40c360c9",
   "metadata": {},
   "source": [
    "<img src=\"https://theaiengineer.dev/tae_logo_gw_flatter.png\" width=35% align=right>"
   ]
  },
  {
   "cell_type": "markdown",
   "id": "533c0589",
   "metadata": {},
   "source": [
    "# Python Primer for Machine & Deep Learning\n",
    "## Object-Oriented Basics\n",
    "\n",
    "**&copy; Dr. Yves J. Hilpisch**\n",
    "\n",
    "AI-Powered by GPT-5\n",
    "\n",
    "Use classes when data and behavior belong together. Keep them small, give them good representations, and prefer composition over deep inheritance."
   ]
  },
  {
   "cell_type": "markdown",
   "id": "1e76e514",
   "metadata": {},
   "source": [
    "### A lightweight class with `__repr__` and equality"
   ]
  },
  {
   "cell_type": "code",
   "execution_count": null,
   "id": "c5edc9d6",
   "metadata": {},
   "outputs": [],
   "source": [
    "class Point:\n",
    "    def __init__(self, x: float, y: float):\n",
    "        self.x, self.y = x, y\n",
    "    def __repr__(self): return f'Point(x={self.x}, y={self.y})'\n",
    "    def __eq__(self, other): return (self.x, self.y) == (other.x, other.y)\n",
    "Point(1,2), Point(1,2) == Point(1,2)"
   ]
  },
  {
   "cell_type": "markdown",
   "id": "e4fe4c3c",
   "metadata": {},
   "source": [
    "### Dataclass and a simple Money type"
   ]
  },
  {
   "cell_type": "code",
   "execution_count": null,
   "id": "a40d6852",
   "metadata": {},
   "outputs": [],
   "source": [
    "from dataclasses import dataclass\n",
    "@dataclass(frozen=True)\n",
    "class Money:\n",
    "    amount: float\n",
    "    currency: str = 'USD'\n",
    "    def __add__(self, other:'Money')->'Money':\n",
    "        if self.currency != other.currency: raise ValueError('currency mismatch')\n",
    "        return Money(self.amount+other.amount, self.currency)\n",
    "Money(10,'USD') + Money(5,'USD')"
   ]
  },
  {
   "cell_type": "markdown",
   "id": "24a1d5a8",
   "metadata": {},
   "source": [
    "### Properties (light encapsulation)"
   ]
  },
  {
   "cell_type": "code",
   "execution_count": null,
   "id": "e87a318f",
   "metadata": {},
   "outputs": [],
   "source": [
    "class Account:\n",
    "    def __init__(self, balance: float): self._bal = balance\n",
    "    @property\n",
    "    def balance(self): return self._bal\n",
    "    @balance.setter\n",
    "    def balance(self, v: float):\n",
    "        if v < 0: raise ValueError('negative')\n",
    "        self._bal = v\n",
    "acc = Account(100); acc.balance, setattr(acc,'balance',150) or acc.balance"
   ]
  },
  {
   "cell_type": "markdown",
   "id": "f522e659",
   "metadata": {},
   "source": [
    "### Composition over inheritance"
   ]
  },
  {
   "cell_type": "code",
   "execution_count": null,
   "id": "3b01f24d",
   "metadata": {},
   "outputs": [],
   "source": [
    "class Engine:\n",
    "    def start(self): return 'engine on'\n",
    "class Car:\n",
    "    def __init__(self): self.engine = Engine()\n",
    "    def drive(self): return self.engine.start() + ' → driving'\n",
    "Car().drive()"
   ]
  },
  {
   "cell_type": "markdown",
   "id": "8386a6fe",
   "metadata": {},
   "source": [
    "## Exercises\n",
    "1. Add a `__mul__` method to `Money` that scales the amount by a number.\n",
    "2. Extend `Account` to log every change to `balance` in a list (property).\n",
    "3. Create a tiny `Portfolio` class that composes multiple `Money` values and returns a total."
   ]
  },
  {
   "cell_type": "markdown",
   "id": "44e4e833",
   "metadata": {},
   "source": [
    "<img src=\"https://theaiengineer.dev/tae_logo_gw_flatter.png\" width=35% align=right>"
   ]
  }
 ],
 "metadata": {
  "kernelspec": {
   "display_name": "Python 3",
   "language": "python",
   "name": "python3"
  },
  "language_info": {
   "name": "python"
  }
 },
 "nbformat": 4,
 "nbformat_minor": 5
}

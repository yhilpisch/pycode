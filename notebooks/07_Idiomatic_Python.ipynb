{
 "cells": [
  {
   "cell_type": "markdown",
   "id": "e6427840",
   "metadata": {},
   "source": [
    "<img src=\"https://theaiengineer.dev/tae_logo_gw_flatter.png\" width=35% align=right>"
   ]
  },
  {
   "cell_type": "markdown",
   "id": "d8241485",
   "metadata": {},
   "source": [
    "# Python Primer for Machine & Deep Learning\n",
    "## Idiomatic Python\n",
    "\n",
    "**&copy; Dr. Yves J. Hilpisch**\n",
    "\n",
    "AI-Powered by GPT-5\n",
    "\n",
    "Idiomatic Python favors clarity: comprehensions, unpacking, context managers, decorators, and EAFP (it’s easier to ask forgiveness than permission)."
   ]
  },
  {
   "cell_type": "markdown",
   "id": "c874b46a",
   "metadata": {},
   "source": [
    "### Comprehensions and unpacking"
   ]
  },
  {
   "cell_type": "code",
   "execution_count": null,
   "id": "715cc2e1",
   "metadata": {},
   "outputs": [],
   "source": [
    "xs = [x*x for x in range(10) if x % 2 == 0]\n",
    "a, b, *rest = [5,2,9,1,7]\n",
    "xs, (a, b, rest)"
   ]
  },
  {
   "cell_type": "markdown",
   "id": "8f420597",
   "metadata": {},
   "source": [
    "### Context managers (`with`) and small files"
   ]
  },
  {
   "cell_type": "code",
   "execution_count": null,
   "id": "a3e85eb3",
   "metadata": {},
   "outputs": [],
   "source": [
    "from pathlib import Path\n",
    "p = Path('demo.txt'); p.write_text('hello\\nworld')\n",
    "with p.open() as f:\n",
    "    data = f.read()\n",
    "data.splitlines()"
   ]
  },
  {
   "cell_type": "markdown",
   "id": "844a9b43",
   "metadata": {},
   "source": [
    "### Decorators (gentle)"
   ]
  },
  {
   "cell_type": "code",
   "execution_count": null,
   "id": "ad8f0e26",
   "metadata": {},
   "outputs": [],
   "source": [
    "import time, functools\n",
    "def timed(fn):\n",
    "    @functools.wraps(fn)\n",
    "    def wrapper(*args, **kwargs):\n",
    "        t0 = time.perf_counter()\n",
    "        out = fn(*args, **kwargs)\n",
    "        print(f'{fn.__name__} took {time.perf_counter()-t0:.4f}s')\n",
    "        return out\n",
    "    return wrapper\n",
    "@timed\n",
    "def slow(n):\n",
    "    s=0\n",
    "    for i in range(n): s+=i\n",
    "    return s\n",
    "slow(1000000)"
   ]
  },
  {
   "cell_type": "markdown",
   "id": "b5fae53b",
   "metadata": {},
   "source": [
    "### EAFP (it’s easier to ask forgiveness than permission)"
   ]
  },
  {
   "cell_type": "code",
   "execution_count": null,
   "id": "269e781e",
   "metadata": {},
   "outputs": [],
   "source": [
    "def get_price(rec: dict) -> float | None:\n",
    "    try:\n",
    "        return float(rec['price'])\n",
    "    except (KeyError, ValueError):\n",
    "        return None\n",
    "get_price({'price':'101.5'}), get_price({'price':'n/a'}), get_price({})"
   ]
  },
  {
   "cell_type": "markdown",
   "id": "8fdf9b9d",
   "metadata": {},
   "source": [
    "### Generators and exhaustion"
   ]
  },
  {
   "cell_type": "code",
   "execution_count": null,
   "id": "be8ee9b8",
   "metadata": {},
   "outputs": [],
   "source": [
    "def squares(n):\n",
    "    for i in range(n):\n",
    "        yield i*i\n",
    "g = squares(5)\n",
    "list(g), list(g)  # second time empty"
   ]
  },
  {
   "cell_type": "markdown",
   "id": "ed5b5085",
   "metadata": {},
   "source": [
    "## Exercises\n",
    "1. Write a context manager that times a small block (`with timer(): ...`).\n",
    "2. Use a decorator to cache the results of a function that sleeps for 0.1s.\n",
    "3. Convert a list of dicts with 'price' strings into floats using EAFP; skip bad rows."
   ]
  },
  {
   "cell_type": "markdown",
   "id": "e83970e3",
   "metadata": {},
   "source": [
    "<img src=\"https://theaiengineer.dev/tae_logo_gw_flatter.png\" width=35% align=right>"
   ]
  }
 ],
 "metadata": {
  "kernelspec": {
   "display_name": "Python 3",
   "language": "python",
   "name": "python3"
  },
  "language_info": {
   "name": "python"
  }
 },
 "nbformat": 4,
 "nbformat_minor": 5
}

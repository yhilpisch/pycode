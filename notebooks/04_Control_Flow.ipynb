{
 "cells": [
  {
   "cell_type": "markdown",
   "id": "aa6dcadb",
   "metadata": {},
   "source": [
    "<img src=\"https://theaiengineer.dev/tae_logo_gw_flatter.png\" width=35% align=right>"
   ]
  },
  {
   "cell_type": "markdown",
   "id": "a2db895f",
   "metadata": {},
   "source": [
    "# Python Primer for Machine & Deep Learning\n",
    "## Control Flow\n",
    "\n",
    "**&copy; Dr. Yves J. Hilpisch**\n",
    "\n",
    "AI-Powered by GPT-5\n",
    "\n",
    "Control flow is how you tell Python what to do next. This notebook covers decisions, loops, helpers like `enumerate`/`zip`, and exceptions."
   ]
  },
  {
   "cell_type": "markdown",
   "id": "d18ea6bf",
   "metadata": {},
   "source": [
    "### Decisions and truthiness"
   ]
  },
  {
   "cell_type": "code",
   "execution_count": null,
   "id": "2212824e",
   "metadata": {},
   "outputs": [],
   "source": [
    "def bucket(x):\n",
    "    if x < 0: return 'negative'\n",
    "    elif x == 0: return 'zero'\n",
    "    else: return 'positive'\n",
    "[bucket(i) for i in (-1,0,1)]"
   ]
  },
  {
   "cell_type": "markdown",
   "id": "c99f6132",
   "metadata": {},
   "source": [
    "### Loops, enumerate, zip"
   ]
  },
  {
   "cell_type": "code",
   "execution_count": null,
   "id": "c56e3bf7",
   "metadata": {},
   "outputs": [],
   "source": [
    "names = ['Ada','Alan','Grace']\n",
    "for i, n in enumerate(names, start=1):\n",
    "    print(i, n)\n",
    "pairs = list(zip(['AAPL','MSFT'], [100, 5]))\n",
    "pairs"
   ]
  },
  {
   "cell_type": "markdown",
   "id": "9581acd4",
   "metadata": {},
   "source": [
    "### any/all helpers"
   ]
  },
  {
   "cell_type": "code",
   "execution_count": null,
   "id": "1b4d7130",
   "metadata": {},
   "outputs": [],
   "source": [
    "xs = [0,1,2,3]\n",
    "any(x > 2 for x in xs), all(x >= 0 for x in xs)"
   ]
  },
  {
   "cell_type": "markdown",
   "id": "939929e8",
   "metadata": {},
   "source": [
    "### Exceptions (try/except/else/finally)"
   ]
  },
  {
   "cell_type": "code",
   "execution_count": null,
   "id": "faebfd1a",
   "metadata": {},
   "outputs": [],
   "source": [
    "def safe_div(a,b):\n",
    "    try:\n",
    "        out = a/b\n",
    "    except ZeroDivisionError:\n",
    "        return None\n",
    "    else:\n",
    "        return out\n",
    "    finally:\n",
    "        pass\n",
    "safe_div(4,2), safe_div(1,0)"
   ]
  },
  {
   "cell_type": "markdown",
   "id": "0fb45eee",
   "metadata": {},
   "source": [
    "### Structural pattern matching (3.10+)"
   ]
  },
  {
   "cell_type": "code",
   "execution_count": null,
   "id": "79bce597",
   "metadata": {},
   "outputs": [],
   "source": [
    "def price_band(p):\n",
    "    match p:\n",
    "        case p if p < 0: return 'invalid'\n",
    "        case p if p < 50: return 'low'\n",
    "        case p if p < 150: return 'medium'\n",
    "        case _: return 'high'\n",
    "[price_band(p) for p in (10, 120, 200)]"
   ]
  },
  {
   "cell_type": "markdown",
   "id": "c1284fa0",
   "metadata": {},
   "source": [
    "## Exercises\n",
    "1. Given a list of ints, sum only the positive numbers using a loop and using `sum` with a generator.\n",
    "2. Write a function `parse_int(s)` that returns `int(s)` or `None` if parsing fails (EAFP).\n",
    "3. Use `zip` to pair stock symbols and prices and print them with 1‑based indices."
   ]
  },
  {
   "cell_type": "markdown",
   "id": "a01fcf3d",
   "metadata": {},
   "source": [
    "<img src=\"https://theaiengineer.dev/tae_logo_gw_flatter.png\" width=35% align=right>"
   ]
  }
 ],
 "metadata": {
  "kernelspec": {
   "display_name": "Python 3",
   "language": "python",
   "name": "python3"
  },
  "language_info": {
   "name": "python"
  }
 },
 "nbformat": 4,
 "nbformat_minor": 5
}

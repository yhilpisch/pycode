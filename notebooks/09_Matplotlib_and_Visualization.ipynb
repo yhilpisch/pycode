{
 "cells": [
  {
   "cell_type": "markdown",
   "id": "c7e79bfe",
   "metadata": {},
   "source": [
    "<img src=\"https://theaiengineer.dev/tae_logo_gw_flatter.png\" width=35% align=right>"
   ]
  },
  {
   "cell_type": "markdown",
   "id": "f8630305",
   "metadata": {},
   "source": [
    "# Python Primer for Machine & Deep Learning\n",
    "## Matplotlib and Visualization\n",
    "\n",
    "**&copy; Dr. Yves J. Hilpisch**\n",
    "\n",
    "AI-Powered by GPT-5\n",
    "\n",
    "Matplotlib is the foundational plotting library in Python; it powers many higher‑level tools. This notebook recreates the chapter figures in a Colab‑ready way: line, scatter, bars/hist, subplots, and annotations."
   ]
  },
  {
   "cell_type": "code",
   "execution_count": null,
   "id": "5d00675e",
   "metadata": {},
   "outputs": [],
   "source": [
    "import numpy as np\n",
    "import matplotlib.pyplot as plt\n",
    "plt.style.use('seaborn-v0_8')"
   ]
  },
  {
   "cell_type": "markdown",
   "id": "5c1de6d2",
   "metadata": {},
   "source": [
    "### Quick start: line plot"
   ]
  },
  {
   "cell_type": "code",
   "execution_count": null,
   "id": "a93bb9fb",
   "metadata": {},
   "outputs": [],
   "source": [
    "x = np.linspace(0, 2*np.pi, 400)\n",
    "y = np.sin(x)\n",
    "plt.figure(figsize=(6.5, 4))\n",
    "plt.plot(x, y, label='sin(x)')\n",
    "plt.xlabel('x (radians)'); plt.ylabel('value'); plt.title('Sine')\n",
    "plt.legend(); plt.grid(alpha=0.3)\n",
    "plt.show()"
   ]
  },
  {
   "cell_type": "markdown",
   "id": "49a9644f",
   "metadata": {},
   "source": [
    "### Lines and scatter, color and size encodings"
   ]
  },
  {
   "cell_type": "code",
   "execution_count": null,
   "id": "acd97db1",
   "metadata": {},
   "outputs": [],
   "source": [
    "rng = np.random.default_rng(0)\n",
    "x = rng.normal(size=300); y = 0.5*x + rng.normal(scale=0.6, size=300)\n",
    "c = np.hypot(x, y)\n",
    "s = 20 + 80 * (c - c.min()) / (np.ptp(c) or 1.0)\n",
    "plt.figure(figsize=(6.5, 4))\n",
    "sc = plt.scatter(x, y, c=c, s=s, cmap='viridis', alpha=0.8, edgecolor='none')\n",
    "plt.colorbar(sc, label='sqrt(x^2 + y^2)'); plt.grid(alpha=0.2)\n",
    "plt.xlabel('x'); plt.ylabel('y'); plt.title('Scatter with Encodings')\n",
    "plt.show()"
   ]
  },
  {
   "cell_type": "markdown",
   "id": "c21a2fe9",
   "metadata": {},
   "source": [
    "### Bars and histograms"
   ]
  },
  {
   "cell_type": "code",
   "execution_count": null,
   "id": "c99eb5b8",
   "metadata": {},
   "outputs": [],
   "source": [
    "labels = ['A','B','C','D','E']\n",
    "vals = [12, 19, 7, 15, 10]\n",
    "plt.figure(figsize=(6.5, 4))\n",
    "bars = plt.bar(labels, vals, color='#4C78A8')\n",
    "for b in bars:\n",
    "    plt.text(b.get_x()+b.get_width()/2, b.get_height()+0.5, f'{b.get_height():.0f}', ha='center', va='bottom')\n",
    "plt.xlabel('category'); plt.ylabel('value'); plt.title('Category Values')\n",
    "plt.show()"
   ]
  },
  {
   "cell_type": "code",
   "execution_count": null,
   "id": "df5fa452",
   "metadata": {},
   "outputs": [],
   "source": [
    "data = rng.normal(loc=0.0, scale=1.0, size=1000)\n",
    "plt.figure(figsize=(6.5, 4))\n",
    "plt.hist(data, bins=30, color='#1f77b4', alpha=0.8, edgecolor='white')\n",
    "plt.xlabel('value'); plt.ylabel('frequency'); plt.title('Histogram')\n",
    "plt.grid(alpha=0.2); plt.show()"
   ]
  },
  {
   "cell_type": "markdown",
   "id": "17f06942",
   "metadata": {},
   "source": [
    "### Subplots and layout"
   ]
  },
  {
   "cell_type": "code",
   "execution_count": null,
   "id": "9d0f05f1",
   "metadata": {},
   "outputs": [],
   "source": [
    "xx = np.linspace(0, 2*np.pi, 200); yy = np.sin(xx)\n",
    "img = np.outer(np.sin(xx), np.cos(xx))\n",
    "fig, axes = plt.subplots(2, 2, figsize=(7,5))\n",
    "axes[0,0].plot(xx, yy, color='#1f77b4'); axes[0,0].set_title('Line')\n",
    "axes[0,1].scatter(rng.normal(size=150), rng.normal(size=150), s=10, alpha=0.7); axes[0,1].set_title('Scatter')\n",
    "axes[1,0].hist(rng.normal(size=400), bins=20, color='#ff7f0e', alpha=0.8); axes[1,0].set_title('Histogram')\n",
    "im = axes[1,1].imshow(img, origin='lower', cmap='viridis', aspect='auto'); axes[1,1].set_title('Image')\n",
    "fig.colorbar(im, ax=axes[1,1], fraction=0.046, pad=0.04)\n",
    "fig.suptitle('Subplots Overview', y=0.98); fig.tight_layout(rect=[0,0,1,0.96])\n",
    "plt.show()"
   ]
  },
  {
   "cell_type": "markdown",
   "id": "e5a6d5c7",
   "metadata": {},
   "source": [
    "### Annotation"
   ]
  },
  {
   "cell_type": "code",
   "execution_count": null,
   "id": "0c8678d5",
   "metadata": {},
   "outputs": [],
   "source": [
    "x = np.linspace(0, 10, 300); y = np.exp(-0.3*x) * np.sin(2*x)\n",
    "plt.figure(figsize=(6.5,4)); plt.plot(x, y, lw=2)\n",
    "idx = np.argmax(y); plt.scatter([x[idx]],[y[idx]], color='red', zorder=5)\n",
    "plt.annotate('peak', xy=(x[idx],y[idx]), xytext=(x[idx]+1.0,y[idx]+0.2),\n",
    "             arrowprops=dict(arrowstyle='->', color='red'), color='red')\n",
    "plt.xlabel('x'); plt.ylabel('y'); plt.grid(alpha=0.3); plt.title('Damped Sine')\n",
    "plt.show()"
   ]
  },
  {
   "cell_type": "markdown",
   "id": "24c91f08",
   "metadata": {},
   "source": [
    "## Exercises\n",
    "1. Recreate the sine plot with a dashed orange line and circular markers every 20 points.\n",
    "2. Build a scatter plot where color encodes a third variable and size encodes a fourth; add a colorbar label.\n",
    "3. Plot two histograms on the same axes with transparency to compare means and variances."
   ]
  },
  {
   "cell_type": "markdown",
   "id": "8156e09d",
   "metadata": {},
   "source": [
    "<img src=\"https://theaiengineer.dev/tae_logo_gw_flatter.png\" width=35% align=right>"
   ]
  }
 ],
 "metadata": {
  "kernelspec": {
   "display_name": "Python 3",
   "language": "python",
   "name": "python3"
  },
  "language_info": {
   "name": "python"
  }
 },
 "nbformat": 4,
 "nbformat_minor": 5
}

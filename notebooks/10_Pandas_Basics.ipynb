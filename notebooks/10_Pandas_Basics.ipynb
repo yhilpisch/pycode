{
 "cells": [
  {
   "cell_type": "markdown",
   "id": "cc331482",
   "metadata": {},
   "source": [
    "<img src=\"https://theaiengineer.dev/tae_logo_gw_flatter.png\" width=35% align=right>"
   ]
  },
  {
   "cell_type": "markdown",
   "id": "a0c30424",
   "metadata": {},
   "source": [
    "# Python Primer for Machine & Deep Learning\n",
    "## Pandas Basics\n",
    "\n",
    "**&copy; Dr. Yves J. Hilpisch**\n",
    "\n",
    "AI-Powered by GPT-5\n",
    "\n",
    "pandas gives you labeled, column‑oriented containers (Series/DataFrame) and a rich vocabulary for cleaning, reshaping, aggregating, joining, and plotting."
   ]
  },
  {
   "cell_type": "code",
   "execution_count": null,
   "id": "4366bd46",
   "metadata": {},
   "outputs": [],
   "source": [
    "import numpy as np, pandas as pd, matplotlib.pyplot as plt\n",
    "plt.style.use('seaborn-v0_8')"
   ]
  },
  {
   "cell_type": "markdown",
   "id": "61bcc2c5",
   "metadata": {},
   "source": [
    "### Create and inspect"
   ]
  },
  {
   "cell_type": "code",
   "execution_count": null,
   "id": "9e9f11e5",
   "metadata": {},
   "outputs": [],
   "source": [
    "idx = pd.date_range('2025-01-01', periods=5, freq='D')\n",
    "df = pd.DataFrame({'price':[100,101.5,99.8,102.2,103.0], 'volume':[10,12,9,15,11]}, index=idx)\n",
    "df.head(2), df.dtypes"
   ]
  },
  {
   "cell_type": "markdown",
   "id": "f9cadd7f",
   "metadata": {},
   "source": [
    "### Select and filter"
   ]
  },
  {
   "cell_type": "code",
   "execution_count": null,
   "id": "cb700449",
   "metadata": {},
   "outputs": [],
   "source": [
    "df.loc['2025-01-02':'2025-01-04', ['price','volume']]"
   ]
  },
  {
   "cell_type": "code",
   "execution_count": null,
   "id": "f7f8273e",
   "metadata": {},
   "outputs": [],
   "source": [
    "df.iloc[0:3, 0]"
   ]
  },
  {
   "cell_type": "code",
   "execution_count": null,
   "id": "84a726f2",
   "metadata": {},
   "outputs": [],
   "source": [
    "df[df['price'] > 101]"
   ]
  },
  {
   "cell_type": "markdown",
   "id": "3288d2cd",
   "metadata": {},
   "source": [
    "### Vectorize and transform"
   ]
  },
  {
   "cell_type": "code",
   "execution_count": null,
   "id": "f2961076",
   "metadata": {},
   "outputs": [],
   "source": [
    "df = df.assign(ret=df['price'].pct_change())\n",
    "df['roll3'] = df['price'].rolling(3, center=True, min_periods=1).mean()\n",
    "df"
   ]
  },
  {
   "cell_type": "markdown",
   "id": "dd35a342",
   "metadata": {},
   "source": [
    "### Groupby and aggregate"
   ]
  },
  {
   "cell_type": "code",
   "execution_count": null,
   "id": "cec4d7c3",
   "metadata": {},
   "outputs": [],
   "source": [
    "df = df.copy(); df['category'] = ['A','B','A','B','A']\n",
    "df.groupby('category').agg(price_mean=('price','mean'), vol_sum=('volume','sum'))"
   ]
  },
  {
   "cell_type": "markdown",
   "id": "c691caa2",
   "metadata": {},
   "source": [
    "### Time series and plotting"
   ]
  },
  {
   "cell_type": "code",
   "execution_count": null,
   "id": "21023f23",
   "metadata": {},
   "outputs": [],
   "source": [
    "idx = pd.date_range('2025-01-01', periods=120, freq='D')\n",
    "price = 100 + np.cumsum(np.random.default_rng(0).normal(0,1.0,len(idx)))\n",
    "vol = np.random.default_rng(1).integers(8,20,len(idx))\n",
    "ts = pd.DataFrame({'price':price,'volume':vol}, index=idx)\n",
    "ax = ts['price'].plot(figsize=(7,4), lw=1.6, color='#1f77b4', label='price')\n",
    "ts['price'].rolling(14, min_periods=1).mean().plot(ax=ax, lw=2.0, color='#ff7f0e', label='14D mean')\n",
    "ax.legend(); ax.grid(alpha=0.3); plt.show()"
   ]
  },
  {
   "cell_type": "markdown",
   "id": "7fcd22f1",
   "metadata": {},
   "source": [
    "### Merging and joining"
   ]
  },
  {
   "cell_type": "code",
   "execution_count": null,
   "id": "078b141e",
   "metadata": {},
   "outputs": [],
   "source": [
    "quotes = pd.DataFrame({\n",
    "  'sym':['AAPL','MSFT','AAPL','MSFT'],\n",
    "  'ts': pd.to_datetime(['2025-01-01','2025-01-01','2025-01-02','2025-01-02']),\n",
    "  'price':[100.0, 300.0, 101.5, 305.0]\n",
    "})\n",
    "trades = pd.DataFrame({\n",
    "  'sym':['AAPL','MSFT','AAPL'],\n",
    "  'ts': pd.to_datetime(['2025-01-01','2025-01-02','2025-01-03']),\n",
    "  'qty':[10,5,12]\n",
    "})\n",
    "tx = pd.merge(trades, quotes, on=['sym','ts'], how='left')\n",
    "tx.assign(value=tx['qty']*tx['price'])"
   ]
  },
  {
   "cell_type": "markdown",
   "id": "77f49f85",
   "metadata": {},
   "source": [
    "### Reshaping: pivot and melt"
   ]
  },
  {
   "cell_type": "code",
   "execution_count": null,
   "id": "7b34adbb",
   "metadata": {},
   "outputs": [],
   "source": [
    "long = pd.DataFrame({\n",
    "  'date': pd.to_datetime(['2025-01-01','2025-01-01','2025-01-02','2025-01-02']),\n",
    "  'metric':['price','volume','price','volume'],\n",
    "  'value':[100.0,10,101.5,12]\n",
    "})\n",
    "wide = long.pivot(index='date', columns='metric', values='value')\n",
    "wide"
   ]
  },
  {
   "cell_type": "code",
   "execution_count": null,
   "id": "f8628e70",
   "metadata": {},
   "outputs": [],
   "source": [
    "tidy = wide.reset_index().melt(id_vars='date', var_name='metric', value_name='value')\n",
    "tidy.sort_values(['date','metric']).head()"
   ]
  },
  {
   "cell_type": "markdown",
   "id": "03fadb31",
   "metadata": {},
   "source": [
    "### Distributions: histogram and boxplot"
   ]
  },
  {
   "cell_type": "code",
   "execution_count": null,
   "id": "12bb4008",
   "metadata": {},
   "outputs": [],
   "source": [
    "ret = ts['price'].pct_change().dropna()\n",
    "ax = ret.plot(kind='hist', bins=30, figsize=(7,4), color='#1f77b4', edgecolor='white', alpha=0.85)\n",
    "ax.set(title='Histogram of Daily Returns', xlabel='return', ylabel='frequency'); plt.show()"
   ]
  },
  {
   "cell_type": "code",
   "execution_count": null,
   "id": "cef29d34",
   "metadata": {},
   "outputs": [],
   "source": [
    "ts2 = ts.assign(ret=ts['price'].pct_change(), weekday=ts.index.day_name())\n",
    "ax = ts2.boxplot(column='ret', by='weekday', grid=False, figsize=(8,4))\n",
    "ax.set_title('Returns by Weekday'); ax.set_xlabel('weekday'); ax.set_ylabel('return'); plt.suptitle(''); plt.show()"
   ]
  },
  {
   "cell_type": "markdown",
   "id": "27311a7c",
   "metadata": {},
   "source": [
    "## Exercises\n",
    "1. Add a z‑score column for price (per column) and plot it.\n",
    "2. Merge a small trades DataFrame with the quotes above and compute trade values; explain the NaNs.\n",
    "3. Resample the time series to weekly means and overlay a 4‑week rolling mean."
   ]
  },
  {
   "cell_type": "markdown",
   "id": "cc7f5a27",
   "metadata": {},
   "source": [
    "<img src=\"https://theaiengineer.dev/tae_logo_gw_flatter.png\" width=35% align=right>"
   ]
  }
 ],
 "metadata": {
  "kernelspec": {
   "display_name": "Python 3",
   "language": "python",
   "name": "python3"
  },
  "language_info": {
   "name": "python"
  }
 },
 "nbformat": 4,
 "nbformat_minor": 5
}

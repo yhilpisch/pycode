{
 "cells": [
  {
   "cell_type": "markdown",
   "id": "cc44faef",
   "metadata": {},
   "source": [
    "<img src=\"https://theaiengineer.dev/tae_logo_gw_flatter.png\" width=35% align=right>"
   ]
  },
  {
   "cell_type": "markdown",
   "id": "df1d4e46",
   "metadata": {},
   "source": [
    "# Python Primer for Machine & Deep Learning\n",
    "## NumPy Essentials\n",
    "\n",
    "**&copy; Dr. Yves J. Hilpisch**\n",
    "\n",
    "AI-Powered by GPT-5\n",
    "\n",
    "NumPy gives you fast, contiguous arrays of numbers and vectorized operations that act on whole blocks of data. This notebook mirrors the chapter and is Colab‑ready: run the cells to explore shapes, dtypes, broadcasting, and linear algebra."
   ]
  },
  {
   "cell_type": "markdown",
   "id": "f3c11402",
   "metadata": {},
   "source": [
    "### Imports"
   ]
  },
  {
   "cell_type": "code",
   "execution_count": null,
   "id": "e31deb1d",
   "metadata": {},
   "outputs": [],
   "source": [
    "import numpy as np"
   ]
  },
  {
   "cell_type": "markdown",
   "id": "bbdb7c45",
   "metadata": {},
   "source": [
    "### Arrays and dtypes"
   ]
  },
  {
   "cell_type": "code",
   "execution_count": null,
   "id": "19a20868",
   "metadata": {},
   "outputs": [],
   "source": [
    "a = np.array([[1., 2., 3.],\n",
    "               [4., 5., 6.]], dtype=np.float64)\n",
    "a.shape, a.ndim, a.dtype, a.itemsize"
   ]
  },
  {
   "cell_type": "markdown",
   "id": "d63b69de",
   "metadata": {},
   "source": [
    "### Creating arrays"
   ]
  },
  {
   "cell_type": "code",
   "execution_count": null,
   "id": "617828cd",
   "metadata": {},
   "outputs": [],
   "source": [
    "np.array([1, 2, 3], dtype=np.int32)"
   ]
  },
  {
   "cell_type": "code",
   "execution_count": null,
   "id": "2ba2f9d4",
   "metadata": {},
   "outputs": [],
   "source": [
    "np.zeros((2, 3)), np.ones(3), np.full((2, 2), 7)"
   ]
  },
  {
   "cell_type": "code",
   "execution_count": null,
   "id": "06f7ddfb",
   "metadata": {},
   "outputs": [],
   "source": [
    "np.arange(6), np.linspace(0.0, 1.0, 5)"
   ]
  },
  {
   "cell_type": "code",
   "execution_count": null,
   "id": "149de6ef",
   "metadata": {},
   "outputs": [],
   "source": [
    "rng = np.random.default_rng(42)\n",
    "rng.normal(loc=0, scale=1, size=(2, 3))"
   ]
  },
  {
   "cell_type": "markdown",
   "id": "e4a5fe38",
   "metadata": {},
   "source": [
    "### Indexing, slicing, views vs copies"
   ]
  },
  {
   "cell_type": "code",
   "execution_count": null,
   "id": "4f86ad4b",
   "metadata": {},
   "outputs": [],
   "source": [
    "a = np.arange(12).reshape(3, 4)\n",
    "a[:, 1:3]"
   ]
  },
  {
   "cell_type": "code",
   "execution_count": null,
   "id": "ca26ae43",
   "metadata": {},
   "outputs": [],
   "source": [
    "view = a[:, 1:3]\n",
    "view[:] = -1\n",
    "a  # original changed"
   ]
  },
  {
   "cell_type": "code",
   "execution_count": null,
   "id": "45550b8a",
   "metadata": {},
   "outputs": [],
   "source": [
    "mask = a % 2 == 0\n",
    "picked = a[mask]  # copy\n",
    "picked[:3] = 99\n",
    "a[0, 0]  # unchanged"
   ]
  },
  {
   "cell_type": "markdown",
   "id": "4ec5da2a",
   "metadata": {},
   "source": [
    "### Vectorization and ufuncs"
   ]
  },
  {
   "cell_type": "code",
   "execution_count": null,
   "id": "a9991d14",
   "metadata": {},
   "outputs": [],
   "source": [
    "x = np.linspace(0, 2 * np.pi, 5)\n",
    "np.sin(x) + np.cos(x)"
   ]
  },
  {
   "cell_type": "markdown",
   "id": "f04d5bc3",
   "metadata": {},
   "source": [
    "### Broadcasting"
   ]
  },
  {
   "cell_type": "code",
   "execution_count": null,
   "id": "59429b15",
   "metadata": {},
   "outputs": [],
   "source": [
    "a = np.array([[1., 2., 3.],\n",
    "               [4., 5., 6.]])  # (2,3)\n",
    "b = np.arange(3)               # (3,)\n",
    "a + b  # across columns"
   ]
  },
  {
   "cell_type": "code",
   "execution_count": null,
   "id": "847540b4",
   "metadata": {},
   "outputs": [],
   "source": [
    "c = np.array([10., 20.])[:, None]  # (2,1)\n",
    "a + c  # down rows"
   ]
  },
  {
   "cell_type": "markdown",
   "id": "5f2a4bfd",
   "metadata": {},
   "source": [
    "### Reshaping and views"
   ]
  },
  {
   "cell_type": "code",
   "execution_count": null,
   "id": "8189137c",
   "metadata": {},
   "outputs": [],
   "source": [
    "x = np.arange(6)\n",
    "y = x.reshape(2, 3)\n",
    "y[0, 0] = 99\n",
    "x  # reflects change (view)"
   ]
  },
  {
   "cell_type": "code",
   "execution_count": null,
   "id": "12fb439d",
   "metadata": {},
   "outputs": [],
   "source": [
    "z = x[[0, 1, 2]]  # fancy -> copy\n",
    "z[0] = -1\n",
    "x[0]"
   ]
  },
  {
   "cell_type": "markdown",
   "id": "2ebac9c3",
   "metadata": {},
   "source": [
    "### Random and reductions"
   ]
  },
  {
   "cell_type": "code",
   "execution_count": null,
   "id": "4b324277",
   "metadata": {},
   "outputs": [],
   "source": [
    "rng = np.random.default_rng(0)\n",
    "data = rng.normal(size=(3, 4))\n",
    "data.mean(), data.mean(axis=0), data.std(axis=1)"
   ]
  },
  {
   "cell_type": "markdown",
   "id": "3eb07a02",
   "metadata": {},
   "source": [
    "### Linear algebra"
   ]
  },
  {
   "cell_type": "code",
   "execution_count": null,
   "id": "232ee38e",
   "metadata": {},
   "outputs": [],
   "source": [
    "v = np.array([3.0, 4.0])  # (2,)\n",
    "M = np.array([[1.0, 2.0], [3.0, 4.0]])  # (2,2)\n",
    "v @ v, np.linalg.norm(v), M @ v, M @ M"
   ]
  },
  {
   "cell_type": "code",
   "execution_count": null,
   "id": "94ccbdf2",
   "metadata": {},
   "outputs": [],
   "source": [
    "np.outer(v, v)"
   ]
  },
  {
   "cell_type": "markdown",
   "id": "535500e6",
   "metadata": {},
   "source": [
    "### Matrix ops, solve, least squares"
   ]
  },
  {
   "cell_type": "code",
   "execution_count": null,
   "id": "7b29ebcb",
   "metadata": {},
   "outputs": [],
   "source": [
    "I = np.eye(3)\n",
    "a = np.array([[1., 2., 3.],[4., 5., 6.]])\n",
    "a.T, np.diag([10,20,30])"
   ]
  },
  {
   "cell_type": "code",
   "execution_count": null,
   "id": "d8fe7dd2",
   "metadata": {},
   "outputs": [],
   "source": [
    "A = np.array([[3., 2.],[1., 2.]])\n",
    "b = np.array([5., 5.])\n",
    "x = np.linalg.solve(A, b)\n",
    "x, np.allclose(A @ x, b)"
   ]
  },
  {
   "cell_type": "code",
   "execution_count": null,
   "id": "63c287fd",
   "metadata": {},
   "outputs": [],
   "source": [
    "X = np.c_[np.arange(5), np.ones(5)]\n",
    "y = np.array([0., 1., 2.2, 2.9, 4.1])\n",
    "coeffs, *_ = np.linalg.lstsq(X, y, rcond=None)\n",
    "coeffs"
   ]
  },
  {
   "cell_type": "markdown",
   "id": "9d4840c5",
   "metadata": {},
   "source": [
    "### Eigenvalues, SVD, QR, Cholesky"
   ]
  },
  {
   "cell_type": "code",
   "execution_count": null,
   "id": "465dac24",
   "metadata": {},
   "outputs": [],
   "source": [
    "S = np.array([[2.,1.],[1.,2.]])\n",
    "w, U = np.linalg.eigh(S)\n",
    "np.allclose(S @ U, U @ np.diag(w)), w"
   ]
  },
  {
   "cell_type": "code",
   "execution_count": null,
   "id": "751965d2",
   "metadata": {},
   "outputs": [],
   "source": [
    "M = np.array([[1.,2.,3.],[4.,5.,6.]])\n",
    "U, s, Vt = np.linalg.svd(M, full_matrices=False)\n",
    "np.allclose(M, U @ np.diag(s) @ Vt), s"
   ]
  },
  {
   "cell_type": "code",
   "execution_count": null,
   "id": "3d6e59e8",
   "metadata": {},
   "outputs": [],
   "source": [
    "A = np.array([[1.,1.],[1.,2.],[1.,3.]])\n",
    "Q, R = np.linalg.qr(A)\n",
    "np.allclose(A, Q @ R), np.allclose(Q.T @ Q, np.eye(2))"
   ]
  },
  {
   "cell_type": "code",
   "execution_count": null,
   "id": "72ce1439",
   "metadata": {},
   "outputs": [],
   "source": [
    "SPD = np.array([[4.,2.],[2.,3.]])\n",
    "L = np.linalg.cholesky(SPD)\n",
    "np.allclose(SPD, L @ L.T)"
   ]
  },
  {
   "cell_type": "markdown",
   "id": "ba56ad4c",
   "metadata": {},
   "source": [
    "### Batch matmul and einsum"
   ]
  },
  {
   "cell_type": "code",
   "execution_count": null,
   "id": "9c4dbbf2",
   "metadata": {},
   "outputs": [],
   "source": [
    "A = np.random.default_rng(0).normal(size=(10, 2, 2))\n",
    "x = np.ones((10, 2, 1))\n",
    "(A @ x).shape"
   ]
  },
  {
   "cell_type": "code",
   "execution_count": null,
   "id": "5152c1c5",
   "metadata": {},
   "outputs": [],
   "source": [
    "u = np.array([1., 2., 3.]); v = np.array([10., 20., 30.])\n",
    "outer = np.einsum('i,j->ij', u, v)\n",
    "outer, np.einsum('ij->', outer)"
   ]
  },
  {
   "cell_type": "markdown",
   "id": "f06dbfb9",
   "metadata": {},
   "source": [
    "## Exercises\n",
    "1. Create an array of shape (3,4) with random integers in [0, 9] and set all odd entries to -1 using a mask.\n",
    "2. Given X shape (m,n), subtract column means and divide by column stds without loops.\n",
    "3. Build A (2,3) and B (3,2), compute A@B and verify entry [0,0] by hand."
   ]
  },
  {
   "cell_type": "markdown",
   "id": "0db9e5c2",
   "metadata": {},
   "source": [
    "<img src=\"https://theaiengineer.dev/tae_logo_gw_flatter.png\" width=35% align=right>"
   ]
  }
 ],
 "metadata": {
  "kernelspec": {
   "display_name": "Python 3",
   "language": "python",
   "name": "python3"
  },
  "language_info": {
   "name": "python"
  }
 },
 "nbformat": 4,
 "nbformat_minor": 5
}

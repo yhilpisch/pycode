{
 "cells": [
  {
   "cell_type": "markdown",
   "id": "ed2bfaf4",
   "metadata": {},
   "source": [
    "<img src=\"https://theaiengineer.dev/tae_logo_gw_flatter.png\" width=35% align=right>"
   ]
  },
  {
   "cell_type": "markdown",
   "id": "8b49b9f9",
   "metadata": {},
   "source": [
    "# Python Primer for Machine & Deep Learning\n",
    "## Functions and Modules\n",
    "\n",
    "**&copy; Dr. Yves J. Hilpisch**\n",
    "\n",
    "AI-Powered by GPT-5\n",
    "\n",
    "Design small functions with clear signatures; add docstrings and type hints; prefer pure functions when practical. This notebook covers signatures, defaults, closures, and decorators."
   ]
  },
  {
   "cell_type": "markdown",
   "id": "0c5818b4",
   "metadata": {},
   "source": [
    "### Basics: signature, docstring, annotations"
   ]
  },
  {
   "cell_type": "code",
   "execution_count": null,
   "id": "8ddf9dc3",
   "metadata": {},
   "outputs": [],
   "source": [
    "from math import pi\n",
    "def vol_sphere(r: float) -> float:\n",
    "    \"\"\"Compute volume of a sphere.\n",
    "\n",
    "    Parameters\n",
    "    ----------\n",
    "    r : float\n",
    "        Radius.\n",
    "    \"\"\"\n",
    "    return 4.0/3.0 * pi * r**3\n",
    "vol_sphere(2.0)"
   ]
  },
  {
   "cell_type": "markdown",
   "id": "fa41700b",
   "metadata": {},
   "source": [
    "### Defaults, *args/**kwargs"
   ]
  },
  {
   "cell_type": "code",
   "execution_count": null,
   "id": "8b85efeb",
   "metadata": {},
   "outputs": [],
   "source": [
    "def greet(name, prefix='Hello', *args, **kwargs):\n",
    "    return f\"{prefix}, {name}!\"\n",
    "greet('Ada'), greet('Alan', prefix='Hi')"
   ]
  },
  {
   "cell_type": "markdown",
   "id": "01f372de",
   "metadata": {},
   "source": [
    "### First‑class functions and closures"
   ]
  },
  {
   "cell_type": "code",
   "execution_count": null,
   "id": "8f55bd2e",
   "metadata": {},
   "outputs": [],
   "source": [
    "def make_multiplier(k: int):\n",
    "    def mul(x: int) -> int: return k * x\n",
    "    return mul\n",
    "times3 = make_multiplier(3); times3(7)"
   ]
  },
  {
   "cell_type": "markdown",
   "id": "61dc12f7",
   "metadata": {},
   "source": [
    "### Decorator with functools.wraps"
   ]
  },
  {
   "cell_type": "code",
   "execution_count": null,
   "id": "816413bf",
   "metadata": {},
   "outputs": [],
   "source": [
    "from functools import wraps\n",
    "def memoize(fn):\n",
    "    cache = {}\n",
    "    @wraps(fn)\n",
    "    def wrapper(*args):\n",
    "        if args not in cache: cache[args] = fn(*args)\n",
    "        return cache[args]\n",
    "    return wrapper\n",
    "@memoize\n",
    "def fib(n: int) -> int:\n",
    "    return n if n < 2 else fib(n-1)+fib(n-2)\n",
    "fib(10)"
   ]
  },
  {
   "cell_type": "markdown",
   "id": "7d4806b5",
   "metadata": {},
   "source": [
    "### Simple module demo (in‑notebook)"
   ]
  },
  {
   "cell_type": "code",
   "execution_count": null,
   "id": "8237e0ab",
   "metadata": {},
   "outputs": [],
   "source": [
    "%%bash\n",
    "cat > arith.py <<'PY'\n",
    "def add(a: int, b: int) -> int:\n",
    "    return a + b\n",
    "PY\n",
    "python - <<'PY'\n",
    "from arith import add\n",
    "assert add(2,3) == 5\n",
    "print('add works')\n",
    "PY"
   ]
  },
  {
   "cell_type": "markdown",
   "id": "78bf98bd",
   "metadata": {},
   "source": [
    "## Exercises\n",
    "1. Write `vol_cylinder(r,h)` and test it with a few values.\n",
    "2. Add a `timed` decorator that prints function runtime; apply it to `fib`.\n",
    "3. Create a small module `stats.py` with `mean(xs)` and import it."
   ]
  },
  {
   "cell_type": "markdown",
   "id": "824cdfe9",
   "metadata": {},
   "source": [
    "<img src=\"https://theaiengineer.dev/tae_logo_gw_flatter.png\" width=35% align=right>"
   ]
  }
 ],
 "metadata": {
  "kernelspec": {
   "display_name": "Python 3",
   "language": "python",
   "name": "python3"
  },
  "language_info": {
   "name": "python"
  }
 },
 "nbformat": 4,
 "nbformat_minor": 5
}
